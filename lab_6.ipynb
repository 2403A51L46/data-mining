{
  "nbformat": 4,
  "nbformat_minor": 0,
  "metadata": {
    "colab": {
      "provenance": [],
      "authorship_tag": "ABX9TyOnO+dKf2I1y/KH65R3+x6H",
      "include_colab_link": true
    },
    "kernelspec": {
      "name": "python3",
      "display_name": "Python 3"
    },
    "language_info": {
      "name": "python"
    }
  },
  "cells": [
    {
      "cell_type": "markdown",
      "metadata": {
        "id": "view-in-github",
        "colab_type": "text"
      },
      "source": [
        "<a href=\"https://colab.research.google.com/github/2403A51L46/data-mining/blob/main/lab_6.ipynb\" target=\"_parent\"><img src=\"https://colab.research.google.com/assets/colab-badge.svg\" alt=\"Open In Colab\"/></a>"
      ]
    },
    {
      "cell_type": "code",
      "execution_count": 3,
      "metadata": {
        "id": "Uh5Y2i6kV1sf"
      },
      "outputs": [],
      "source": [
        "import pandas as pd\n",
        "from sklearn.preprocessing import LabelEncoder, OneHotEncoder\n"
      ]
    },
    {
      "cell_type": "code",
      "source": [
        "data={'Category':['A','B','C','D','A','B','C','D',]}\n",
        "df=pd.DataFrame(data)"
      ],
      "metadata": {
        "id": "ObO8CFalhagu"
      },
      "execution_count": 4,
      "outputs": []
    },
    {
      "cell_type": "code",
      "source": [
        "print(df)"
      ],
      "metadata": {
        "colab": {
          "base_uri": "https://localhost:8080/"
        },
        "id": "5YrZxLcThgdi",
        "outputId": "47714509-70fc-4450-c890-5cf3e6e49f01"
      },
      "execution_count": 5,
      "outputs": [
        {
          "output_type": "stream",
          "name": "stdout",
          "text": [
            "  Category\n",
            "0        A\n",
            "1        B\n",
            "2        C\n",
            "3        D\n",
            "4        A\n",
            "5        B\n",
            "6        C\n",
            "7        D\n"
          ]
        }
      ]
    },
    {
      "cell_type": "code",
      "source": [
        "label_encoder=LabelEncoder()\n",
        "df['Label_Encoded']=label_encoder.fit_transform(df['Category'])"
      ],
      "metadata": {
        "id": "trEy0UGNhmf6"
      },
      "execution_count": 6,
      "outputs": []
    },
    {
      "cell_type": "code",
      "source": [
        "print(df)"
      ],
      "metadata": {
        "colab": {
          "base_uri": "https://localhost:8080/"
        },
        "id": "_9eUY-Fihm7N",
        "outputId": "5564eb2b-66bf-40f1-9cba-f103578e68d5"
      },
      "execution_count": 7,
      "outputs": [
        {
          "output_type": "stream",
          "name": "stdout",
          "text": [
            "  Category  Label_Encoded\n",
            "0        A              0\n",
            "1        B              1\n",
            "2        C              2\n",
            "3        D              3\n",
            "4        A              0\n",
            "5        B              1\n",
            "6        C              2\n",
            "7        D              3\n"
          ]
        }
      ]
    },
    {
      "cell_type": "code",
      "source": [
        "one_hot_encoded=pd.get_dummies(df['Category'],prefix='Category')\n",
        "print(one_hot_encoded)"
      ],
      "metadata": {
        "colab": {
          "base_uri": "https://localhost:8080/"
        },
        "id": "xkSGADbThm-g",
        "outputId": "0f484bf9-cafe-4b2a-81c8-c937face4e85"
      },
      "execution_count": 8,
      "outputs": [
        {
          "output_type": "stream",
          "name": "stdout",
          "text": [
            "   Category_A  Category_B  Category_C  Category_D\n",
            "0        True       False       False       False\n",
            "1       False        True       False       False\n",
            "2       False       False        True       False\n",
            "3       False       False       False        True\n",
            "4        True       False       False       False\n",
            "5       False        True       False       False\n",
            "6       False       False        True       False\n",
            "7       False       False       False        True\n"
          ]
        }
      ]
    },
    {
      "cell_type": "code",
      "source": [
        "df=pd.concat([df,one_hot_encoded],axis=1)"
      ],
      "metadata": {
        "id": "CxUhvl2ShnCJ"
      },
      "execution_count": 9,
      "outputs": []
    },
    {
      "cell_type": "code",
      "source": [
        "print(df)"
      ],
      "metadata": {
        "colab": {
          "base_uri": "https://localhost:8080/"
        },
        "id": "B0EqLskBh0sh",
        "outputId": "9919f5b0-16bd-4d79-af3b-2c537b73df94"
      },
      "execution_count": 10,
      "outputs": [
        {
          "output_type": "stream",
          "name": "stdout",
          "text": [
            "  Category  Label_Encoded  Category_A  Category_B  Category_C  Category_D\n",
            "0        A              0        True       False       False       False\n",
            "1        B              1       False        True       False       False\n",
            "2        C              2       False       False        True       False\n",
            "3        D              3       False       False       False        True\n",
            "4        A              0        True       False       False       False\n",
            "5        B              1       False        True       False       False\n",
            "6        C              2       False       False        True       False\n",
            "7        D              3       False       False       False        True\n"
          ]
        }
      ]
    },
    {
      "cell_type": "code",
      "source": [
        "from datetime import datetime"
      ],
      "metadata": {
        "id": "NfSOFaYoh0vf"
      },
      "execution_count": 11,
      "outputs": []
    },
    {
      "cell_type": "code",
      "source": [
        "data={'Name':['Sathwik','Sai Kumar'],'DOB':['2004-12-15','2004-09-15']}\n",
        "df=pd.DataFrame(data)\n",
        "print(df)"
      ],
      "metadata": {
        "colab": {
          "base_uri": "https://localhost:8080/"
        },
        "id": "BSfyk3wAh0yj",
        "outputId": "353d627a-85f8-45f6-caf6-4ccf40761663"
      },
      "execution_count": 12,
      "outputs": [
        {
          "output_type": "stream",
          "name": "stdout",
          "text": [
            "        Name         DOB\n",
            "0    Sathwik  2004-12-15\n",
            "1  Sai Kumar  2004-09-15\n"
          ]
        }
      ]
    },
    {
      "cell_type": "code",
      "source": [
        "df['DOB']=pd.to_datetime(df['DOB'])\n",
        "print(df)"
      ],
      "metadata": {
        "colab": {
          "base_uri": "https://localhost:8080/"
        },
        "id": "g96mC8uviB5f",
        "outputId": "9f1d02e4-77d0-4a9b-821e-e5169e8897a9"
      },
      "execution_count": 13,
      "outputs": [
        {
          "output_type": "stream",
          "name": "stdout",
          "text": [
            "        Name        DOB\n",
            "0    Sathwik 2004-12-15\n",
            "1  Sai Kumar 2004-09-15\n"
          ]
        }
      ]
    },
    {
      "cell_type": "code",
      "source": [
        "current=datetime.now().year\n",
        "df['Age']=current-df['DOB'].dt.year\n",
        "print(df)"
      ],
      "metadata": {
        "colab": {
          "base_uri": "https://localhost:8080/"
        },
        "id": "HD9vX08ciB9F",
        "outputId": "ae1715b2-ce20-407a-ea14-79083cc3f5a5"
      },
      "execution_count": 14,
      "outputs": [
        {
          "output_type": "stream",
          "name": "stdout",
          "text": [
            "        Name        DOB  Age\n",
            "0    Sathwik 2004-12-15   21\n",
            "1  Sai Kumar 2004-09-15   21\n"
          ]
        }
      ]
    },
    {
      "cell_type": "code",
      "source": [],
      "metadata": {
        "id": "N0FQbJslkSXW"
      },
      "execution_count": null,
      "outputs": []
    },
    {
      "cell_type": "code",
      "source": [],
      "metadata": {
        "id": "RUyuyQkPkSa6"
      },
      "execution_count": null,
      "outputs": []
    }
  ]
}